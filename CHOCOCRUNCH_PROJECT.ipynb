{
 "cells": [
  {
   "cell_type": "code",
   "execution_count": null,
   "id": "f0972e5e",
   "metadata": {},
   "outputs": [],
   "source": [
    "import requests\n",
    "from IPython.display import display\n",
    "\n",
    "all_products = []\n",
    "page = 1\n",
    "page_size = 100\n",
    "target_records = 12000\n",
    "\n",
    "while len(all_products) < target_records:\n",
    "    url = f\"https://world.openfoodfacts.org/api/v2/search?categories=chocolates&fields=code,product_name,brands,nutriments&page_size={page_size}&page={page}\"\n",
    "    try:\n",
    "        response = requests.get(url)\n",
    "        response.raise_for_status()  # Raise an exception for bad status codes\n",
    "        data = response.json()\n",
    "\n",
    "        if not data.get('products'):\n",
    "            print(f\"No products found on page {page}. Stopping.\")\n",
    "            break # No more products\n",
    "\n",
    "        all_products.extend(data['products'])\n",
    "        print(f\"Collected {len(all_products)} records so far.\")\n",
    "        page += 1\n",
    "\n",
    "    except requests.exceptions.RequestException as e:\n",
    "        print(f\"Error fetching page {page}: {e}\")\n",
    "        break # Stop if there's an error\n",
    "\n",
    "\n",
    "print(f\"Finished collecting {len(all_products)} records.\")\n",
    "display(all_products)"
   ]
  },
  {
   "cell_type": "code",
   "execution_count": null,
   "id": "983e3145",
   "metadata": {},
   "outputs": [],
   "source": [
    "len(all_products)"
   ]
  },
  {
   "cell_type": "code",
   "execution_count": null,
   "id": "c36ac9e7",
   "metadata": {},
   "outputs": [],
   "source": [
    "import pickle\n",
    "\n",
    "# Assuming 'all_products' contains your collected data\n",
    "with open('all_products.pkl', 'wb') as f:\n",
    "    pickle.dump(all_products, f)\n"
   ]
  },
  {
   "cell_type": "code",
   "execution_count": null,
   "id": "ab3f3115",
   "metadata": {},
   "outputs": [],
   "source": [
    "import pickle\n",
    "\n",
    "with open('all_products.pkl', 'rb') as f:\n",
    "    all_products = pickle.load(f)\n"
   ]
  },
  {
   "cell_type": "code",
   "execution_count": null,
   "id": "2561c92e",
   "metadata": {},
   "outputs": [],
   "source": [
    "df=all_products.copy()"
   ]
  },
  {
   "cell_type": "code",
   "execution_count": null,
   "id": "c5fafe00",
   "metadata": {},
   "outputs": [],
   "source": [
    "display(df)"
   ]
  },
  {
   "cell_type": "code",
   "execution_count": null,
   "id": "7d08782f",
   "metadata": {},
   "outputs": [],
   "source": [
    "import pandas as pd"
   ]
  },
  {
   "cell_type": "code",
   "execution_count": null,
   "id": "91aee990",
   "metadata": {},
   "outputs": [],
   "source": [
    "df=pd.DataFrame(all_products)"
   ]
  },
  {
   "cell_type": "code",
   "execution_count": null,
   "id": "9886ac44",
   "metadata": {},
   "outputs": [],
   "source": [
    "df"
   ]
  },
  {
   "cell_type": "code",
   "execution_count": null,
   "id": "cda130e3",
   "metadata": {},
   "outputs": [],
   "source": [
    "df1 = df.copy()"
   ]
  },
  {
   "cell_type": "code",
   "execution_count": null,
   "id": "cb953031",
   "metadata": {},
   "outputs": [],
   "source": [
    "df1"
   ]
  },
  {
   "cell_type": "code",
   "execution_count": null,
   "id": "dca20b43",
   "metadata": {},
   "outputs": [],
   "source": [
    "import pandas as pd"
   ]
  },
  {
   "cell_type": "code",
   "execution_count": null,
   "id": "c8f638e4",
   "metadata": {},
   "outputs": [],
   "source": [
    "# Assuming your DataFrame 'df' is already loaded with data\n",
    "# We'll create a new DataFrame for the selected nutrient data\n",
    "\n",
    "# First, define the list of column names you want\n",
    "columns_to_extract = [\n",
    "    'energy-kcal_value',\n",
    "    'energy-kj_value',\n",
    "    'carbohydrates_value',\n",
    "    'sugars_value',\n",
    "    'fat_value',\n",
    "    'saturated-fat_value',\n",
    "    'proteins_value',\n",
    "    'fiber_value',\n",
    "    'salt_value',\n",
    "    'sodium_value',\n",
    "    'nova-group',\n",
    "    'nutrition-score-fr',\n",
    "    'fruits-vegetables-nuts-estimate-from-ingredients_100g'\n",
    "]\n",
    "\n",
    "# This is the syntax to flatten the 'nutriments' dictionary and select your columns\n",
    "nutrients_df = df1['nutriments'].apply(pd.Series)[columns_to_extract]\n",
    "\n",
    "# Optional: Combine this with your original DataFrame to keep columns like 'code' and 'product_name'\n",
    "df1 = pd.concat([df1[['code', 'product_name','brands']], nutrients_df], axis=1)\n",
    "\n",
    "# Now you can view the new DataFrame with only the columns you need\n",
    "print(df1.head())"
   ]
  },
  {
   "cell_type": "code",
   "execution_count": null,
   "id": "e9af1cbd",
   "metadata": {},
   "outputs": [],
   "source": [
    "import pandas as pd\n",
    "\n",
    "# Assuming df is your DataFrame\n",
    "df1['sugar_to_carb_ratio'] = df1['sugars_value'] / df1['carbohydrates_value']\n",
    "\n",
    "# Optional: Handle division by zero or missing values\n",
    "df1['sugar_to_carb_ratio'] = df1['sugar_to_carb_ratio'].replace([float('inf'), -float('inf')], pd.NA)\n",
    "df1['sugar_to_carb_ratio'] = df1['sugar_to_carb_ratio'].fillna(0)\n"
   ]
  },
  {
   "cell_type": "code",
   "execution_count": null,
   "id": "7a78cce9",
   "metadata": {},
   "outputs": [],
   "source": [
    "df1[\"sugar_to_carb_ratio\"]"
   ]
  },
  {
   "cell_type": "code",
   "execution_count": null,
   "id": "8b2423fa",
   "metadata": {},
   "outputs": [],
   "source": [
    "import pandas as pd\n",
    "\n",
    "# Define thresholds for calorie categories (adjust as needed)\n",
    "low_threshold = 100\n",
    "high_threshold = 300\n",
    "\n",
    "# Assuming df is your DataFrame\n",
    "def classify_calorie(kcal):\n",
    "    if pd.isna(kcal):\n",
    "        return None\n",
    "    elif kcal < low_threshold:\n",
    "        return 'Low'\n",
    "    elif kcal <= high_threshold:\n",
    "        return 'Moderate'\n",
    "    else:\n",
    "        return 'High'\n",
    "\n",
    "df1['calorie_category'] = df1['energy-kcal_value'].apply(classify_calorie)\n"
   ]
  },
  {
   "cell_type": "code",
   "execution_count": null,
   "id": "136e26a6",
   "metadata": {},
   "outputs": [],
   "source": [
    "df1[\"calorie_category\"]"
   ]
  },
  {
   "cell_type": "code",
   "execution_count": null,
   "id": "89122d7e",
   "metadata": {},
   "outputs": [],
   "source": [
    "import pandas as pd\n",
    "\n",
    "# Define sugar content thresholds (adjust as needed)\n",
    "low_sugar_threshold = 5.0\n",
    "high_sugar_threshold = 15.0\n",
    "\n",
    "def classify_sugar(sugar):\n",
    "    if pd.isna(sugar):\n",
    "        return None\n",
    "    elif sugar < low_sugar_threshold:\n",
    "        return 'Low Sugar'\n",
    "    elif sugar <= high_sugar_threshold:\n",
    "        return 'Moderate Sugar'\n",
    "    else:\n",
    "        return 'High Sugar'\n",
    "\n",
    "df1['sugar_category'] = df1['sugars_value'].apply(classify_sugar)\n"
   ]
  },
  {
   "cell_type": "code",
   "execution_count": null,
   "id": "b2adb5fb",
   "metadata": {},
   "outputs": [],
   "source": [
    "df1[\"sugar_category\"]"
   ]
  },
  {
   "cell_type": "code",
   "execution_count": null,
   "id": "ecb75ce9",
   "metadata": {},
   "outputs": [],
   "source": [
    "import pandas as pd\n",
    "\n",
    "# Assuming df is your DataFrame\n",
    "df1['is_ultra_processed'] = df1['nova-group'].apply(lambda x: 'Yes' if x == 4 else 'No')\n"
   ]
  },
  {
   "cell_type": "code",
   "execution_count": null,
   "id": "68f8a62a",
   "metadata": {},
   "outputs": [],
   "source": [
    "df1[\"is_ultra_processed\"]"
   ]
  },
  {
   "cell_type": "code",
   "execution_count": null,
   "id": "533c0d97",
   "metadata": {},
   "outputs": [],
   "source": [
    "df1    \n"
   ]
  },
  {
   "cell_type": "code",
   "execution_count": null,
   "id": "df4e5194",
   "metadata": {},
   "outputs": [],
   "source": [
    "kcal_90_percentile = df1['energy-kcal_value'].quantile(0.90)\n",
    "df1 = df1[df1['energy-kcal_value'] <= kcal_90_percentile]\n",
    "\n"
   ]
  },
  {
   "cell_type": "code",
   "execution_count": null,
   "id": "e801fbe0",
   "metadata": {},
   "outputs": [],
   "source": [
    "df1"
   ]
  },
  {
   "cell_type": "code",
   "execution_count": null,
   "id": "74912c6e",
   "metadata": {},
   "outputs": [],
   "source": [
    "csv = df1.to_csv(\"chococrunch.csv\")=>//"
   ]
  },
  {
   "cell_type": "code",
   "execution_count": null,
   "id": "4d4b9dac",
   "metadata": {},
   "outputs": [],
   "source": [
    "# Assuming df is your DataFrame\n",
    "df2 = df1[['code','product_name','brands','energy-kcal_value', 'sugars_value', 'carbohydrates_value', 'sugar_to_carb_ratio']]\n"
   ]
  },
  {
   "cell_type": "code",
   "execution_count": null,
   "id": "b55f7cef",
   "metadata": {},
   "outputs": [],
   "source": [
    "df2"
   ]
  },
  {
   "cell_type": "code",
   "execution_count": null,
   "id": "133a525b",
   "metadata": {},
   "outputs": [],
   "source": [
    "df2.describe()"
   ]
  },
  {
   "cell_type": "code",
   "execution_count": null,
   "id": "0049f81c",
   "metadata": {},
   "outputs": [],
   "source": [
    "df2.isnull().sum()"
   ]
  },
  {
   "cell_type": "code",
   "execution_count": null,
   "id": "18ff6770",
   "metadata": {},
   "outputs": [],
   "source": [
    "df2['sugars_value'].fillna(df2['sugars_value'].mean(), inplace=True)\n",
    "df2['carbohydrates_value'].fillna(df2['carbohydrates_value'].mean(), inplace=True)\n"
   ]
  },
  {
   "cell_type": "code",
   "execution_count": null,
   "id": "685cfc6d",
   "metadata": {},
   "outputs": [],
   "source": [
    "df2.isnull().sum()"
   ]
  },
  {
   "cell_type": "code",
   "execution_count": null,
   "id": "e0bdc235",
   "metadata": {},
   "outputs": [],
   "source": [
    "df2"
   ]
  },
  {
   "cell_type": "code",
   "execution_count": null,
   "id": "3e3b391f",
   "metadata": {},
   "outputs": [],
   "source": [
    "csv = df2.to_csv(\"chococrunch.csv\")"
   ]
  },
  {
   "cell_type": "code",
   "execution_count": null,
   "id": "384e50e0",
   "metadata": {},
   "outputs": [],
   "source": [
    "import matplotlib.pyplot as plt\n",
    "import seaborn as sns\n",
    "\n",
    "# Set style for plots\n",
    "sns.set(style=\"whitegrid\")\n",
    "\n",
    "# 1. Check the shape and completeness of the dataset\n",
    "#print(\"Data shape:\", df1.shape)\n",
    "#print(\"Missing values per column:\\n\", df1.isnull().sum())\n"
   ]
  },
  {
   "cell_type": "code",
   "execution_count": null,
   "id": "20581f2b",
   "metadata": {},
   "outputs": [],
   "source": [
    "# 2. Distribution of key numeric variables with histograms\n",
    "fig, axs = plt.subplots(2, 2, figsize=(14, 10))\n",
    "sns.histplot(df1['energy-kcal_value'], bins=30, kde=True, color='chocolate', ax=axs[0,0])\n",
    "axs[0,0].set_title(\"Calories Distribution\")\n",
    "\n",
    "sns.histplot(df1['sugars_value'], bins=30, kde=True, color='brown', ax=axs[0,1])\n",
    "axs[0,1].set_title(\"Sugars Distribution\")\n",
    "\n",
    "sns.histplot(df1['carbohydrates_value'], bins=30, kde=True, color='darkred', ax=axs[1,0])\n",
    "axs[1,0].set_title(\"Carbohydrates Distribution\")\n",
    "\n",
    "sns.histplot(df1['sugar_to_carb_ratio'], bins=30, kde=True, color='sienna', ax=axs[1,1])\n",
    "axs[1,1].set_title(\"Sugar to Carb Ratio Distribution\")\n",
    "\n",
    "plt.tight_layout()\n",
    "plt.show()"
   ]
  },
  {
   "cell_type": "code",
   "execution_count": null,
   "id": "6797b55a",
   "metadata": {},
   "outputs": [],
   "source": [
    "# 3. Bar charts for calorie_category and sugar_category counts\n",
    "plt.figure(figsize=(12,5))\n",
    "sns.countplot(data=df1, x='calorie_category', order=['Low','Moderate','High'], palette='ch:s=.25,rot=-.25')\n",
    "plt.title(\"Number of Products by Calorie Category\")\n",
    "plt.show()\n",
    "\n",
    "plt.figure(figsize=(12,5))\n",
    "sns.countplot(data=df1, x='sugar_category', order=['Low Sugar','Moderate Sugar','High Sugar'], palette='dark:#5A9_r')\n",
    "plt.title(\"Number of Products by Sugar Category\")\n",
    "plt.show()"
   ]
  },
  {
   "cell_type": "code",
   "execution_count": null,
   "id": "7ba36714",
   "metadata": {},
   "outputs": [],
   "source": [
    "# 4. Pie chart for NOVA group distribution\n",
    "nova_counts = df1['nova-group'].value_counts(dropna=False).sort_index()\n",
    "plt.figure(figsize=(7,7))\n",
    "plt.pie(nova_counts, labels=nova_counts.index, autopct='%1.1f%%', colors=sns.color_palette('pastel'))\n",
    "plt.title(\"Product Distribution by NOVA Group\")\n",
    "plt.show()\n"
   ]
  },
  {
   "cell_type": "code",
   "execution_count": null,
   "id": "ed8e7ee1",
   "metadata": {},
   "outputs": [],
   "source": [
    "# 5. Compare Ultra-processed vs Minimally processed\n",
    "plt.figure(figsize=(7,5))\n",
    "sns.countplot(data=df1, x='is_ultra_processed', palette=['#8B4513','#D2691E'])\n",
    "plt.title(\"Ultra-processed vs Minimally Processed Chocolate Products\")\n",
    "plt.show()"
   ]
  },
  {
   "cell_type": "code",
   "execution_count": null,
   "id": "cf4a5a1d",
   "metadata": {},
   "outputs": [],
   "source": [
    "# 6. Scatter plot: Calories vs Sugars colored by Ultra-processed flag\n",
    "plt.figure(figsize=(10,6))\n",
    "sns.scatterplot(data=df1, x='energy-kcal_value', y='sugars_value', hue='is_ultra_processed', palette=['green','red'], alpha=0.6)\n",
    "plt.title(\"Calories vs Sugars by Ultra-processed Flag\")\n",
    "plt.xlabel(\"Calories per 100g\")\n",
    "plt.ylabel(\"Sugars per 100g\")\n",
    "plt.show()"
   ]
  },
  {
   "cell_type": "code",
   "execution_count": null,
   "id": "335c0fcd",
   "metadata": {},
   "outputs": [],
   "source": [
    "# 7. Heatmap of correlations between numeric nutrition variables\n",
    "nutrition_cols = [\n",
    "    'energy-kcal_value', 'energy-kj_value', 'carbohydrates_value', 'sugars_value',\n",
    "    'fat_value', 'saturated-fat_value', 'proteins_value', 'fiber_value',\n",
    "    'salt_value', 'sodium_value', 'nutrition-score-fr', 'fruits-vegetables-nuts-estimate-from-ingredients_100g'\n",
    "]\n",
    "\n",
    "plt.figure(figsize=(10,8))\n",
    "corr = df1[nutrition_cols].corr()\n",
    "sns.heatmap(corr, annot=True, fmt=\".2f\", cmap='coolwarm', cbar=True, square=True)\n",
    "plt.title(\"Nutrient Correlation Heatmap\")\n",
    "plt.show()"
   ]
  },
  {
   "cell_type": "code",
   "execution_count": null,
   "id": "c266cd55",
   "metadata": {},
   "outputs": [],
   "source": [
    "# 8. Boxplots of calories and sugars grouped by brands (top 10 brands by product count to keep plot readable)\n",
    "top_brands = df1['brands'].value_counts().nlargest(10).index\n",
    "plt.figure(figsize=(14,6))\n",
    "sns.boxplot(data=df1[df1['brands'].isin(top_brands)], x='brands', y='energy-kcal_value')\n",
    "plt.xticks(rotation=45)\n",
    "plt.title(\"Calories Distribution for Top 10 Brands\")\n",
    "plt.show()\n",
    "\n",
    "plt.figure(figsize=(14,6))\n",
    "sns.boxplot(data=df1[df1['brands'].isin(top_brands)], x='brands', y='sugars_value')\n",
    "plt.xticks(rotation=45)\n",
    "plt.title(\"Sugars Distribution for Top 10 Brands\")\n",
    "plt.show()"
   ]
  },
  {
   "cell_type": "code",
   "execution_count": null,
   "id": "4511d77b",
   "metadata": {},
   "outputs": [],
   "source": [
    "import mysql.connector\n",
    "from mysql.connector import Error\n",
    "import pandas as pd\n",
    "import numpy as np\n",
    "\n",
    "def get_connection():\n",
    "    return mysql.connector.connect(\n",
    "       host='gateway01.ap-southeast-1.prod.aws.tidbcloud.com',\n",
    "       port=4000,\n",
    "       user='EnD345nfx9wxmnG.root',\n",
    "       password='Q4KKSkNgKxF3JIPn'\n",
    "       # Note: no database specified here for now\n",
    "    )\n",
    "\n",
    "def create_database(conn, db_name=\"choco_crunch\"):\n",
    "    cursor = conn.cursor()\n",
    "    cursor.execute(f\"CREATE DATABASE IF NOT EXISTS {db_name};\")\n",
    "    cursor.execute(f\"USE {db_name};\")\n",
    "    cursor.close()\n",
    "\n",
    "def create_tables(conn):\n",
    "    cursor = conn.cursor()\n",
    "    cursor.execute(\"\"\"\n",
    "    CREATE TABLE IF NOT EXISTS product_info (\n",
    "        product_code VARCHAR(50) PRIMARY KEY,\n",
    "        product_name TEXT,\n",
    "        brand TEXT\n",
    "    );\n",
    "    \"\"\")\n",
    "    cursor.execute(\"\"\"\n",
    "    CREATE TABLE IF NOT EXISTS nutrient_info (\n",
    "        product_code VARCHAR(50),\n",
    "        energy_kcal_value FLOAT,\n",
    "        energy_kj_value FLOAT,\n",
    "        carbohydrates_value FLOAT,\n",
    "        sugars_value FLOAT,\n",
    "        fat_value FLOAT,\n",
    "        saturated_fat_value FLOAT,\n",
    "        proteins_value FLOAT,\n",
    "        fiber_value FLOAT,\n",
    "        salt_value FLOAT,\n",
    "        sodium_value FLOAT,\n",
    "        fruits_vegetables_nuts_estimate_from_ingredients_100g FLOAT,\n",
    "        nutrition_score_fr INTEGER,\n",
    "        nova_group INTEGER,\n",
    "        FOREIGN KEY (product_code) REFERENCES product_info(product_code)\n",
    "    );\n",
    "    \"\"\")\n",
    "    cursor.execute(\"\"\"\n",
    "    CREATE TABLE IF NOT EXISTS derived_metrics (\n",
    "        product_code VARCHAR(50),\n",
    "        sugar_to_carb_ratio FLOAT,\n",
    "        calorie_category TEXT,\n",
    "        sugar_category TEXT,\n",
    "        is_ultra_processed TEXT,\n",
    "        FOREIGN KEY (product_code) REFERENCES product_info(product_code)\n",
    "    );\n",
    "    \"\"\")\n",
    "    conn.commit()\n",
    "    cursor.close()\n",
    "\n",
    "def clean_nan(df):\n",
    "    return df.replace({np.nan: None, 'nan': None})\n",
    "\n",
    "def insert_data(conn, df_product, df_nutrients, df_derived):\n",
    "    cursor = conn.cursor()\n",
    "    try:\n",
    "        product_insert_query = \"\"\"\n",
    "            INSERT INTO product_info (product_code, product_name, brand)\n",
    "            VALUES (%s, %s, %s)\n",
    "            ON DUPLICATE KEY UPDATE \n",
    "                product_name=VALUES(product_name), brand=VALUES(brand);\n",
    "        \"\"\"\n",
    "        product_data = [(row['product_code'], row['product_name'], row['brand']) for _, row in df_product.iterrows()]\n",
    "        cursor.executemany(product_insert_query, product_data)\n",
    "\n",
    "        nutrient_insert_query = \"\"\"\n",
    "            INSERT INTO nutrient_info (\n",
    "                product_code, energy_kcal_value, energy_kj_value, carbohydrates_value, sugars_value,\n",
    "                fat_value, saturated_fat_value, proteins_value, fiber_value, salt_value, sodium_value,\n",
    "                fruits_vegetables_nuts_estimate_from_ingredients_100g, nutrition_score_fr, nova_group\n",
    "            ) VALUES (%s, %s, %s, %s, %s, %s, %s, %s, %s, %s, %s, %s, %s, %s)\n",
    "            ON DUPLICATE KEY UPDATE\n",
    "                energy_kcal_value=VALUES(energy_kcal_value),\n",
    "                energy_kj_value=VALUES(energy_kj_value),\n",
    "                carbohydrates_value=VALUES(carbohydrates_value),\n",
    "                sugars_value=VALUES(sugars_value),\n",
    "                fat_value=VALUES(fat_value),\n",
    "                saturated_fat_value=VALUES(saturated_fat_value),\n",
    "                proteins_value=VALUES(proteins_value),\n",
    "                fiber_value=VALUES(fiber_value),\n",
    "                salt_value=VALUES(salt_value),\n",
    "                sodium_value=VALUES(sodium_value),\n",
    "                fruits_vegetables_nuts_estimate_from_ingredients_100g=VALUES(fruits_vegetables_nuts_estimate_from_ingredients_100g),\n",
    "                nutrition_score_fr=VALUES(nutrition_score_fr),\n",
    "                nova_group=VALUES(nova_group);\n",
    "        \"\"\"\n",
    "        nutrient_data = [tuple(row) for _, row in df_nutrients.iterrows()]\n",
    "        cursor.executemany(nutrient_insert_query, nutrient_data)\n",
    "\n",
    "        derived_insert_query = \"\"\"\n",
    "            INSERT INTO derived_metrics (\n",
    "                product_code, sugar_to_carb_ratio, calorie_category, sugar_category, is_ultra_processed\n",
    "            ) VALUES (%s, %s, %s, %s, %s)\n",
    "            ON DUPLICATE KEY UPDATE\n",
    "                sugar_to_carb_ratio=VALUES(sugar_to_carb_ratio),\n",
    "                calorie_category=VALUES(calorie_category),\n",
    "                sugar_category=VALUES(sugar_category),\n",
    "                is_ultra_processed=VALUES(is_ultra_processed);\n",
    "        \"\"\"\n",
    "        derived_data = [tuple(row) for _, row in df_derived.iterrows()]\n",
    "        cursor.executemany(derived_insert_query, derived_data)\n",
    "\n",
    "        conn.commit()\n",
    "    except Error as e:\n",
    "        print(f\"Error during insert: {e}\")\n",
    "        conn.rollback()\n",
    "    finally:\n",
    "        cursor.close()\n",
    "\n",
    "# Assuming df1 is your final processed DataFrame from previous code\n",
    "\n",
    "df_product = df1[['code', 'product_name', 'brands']].drop_duplicates().rename(\n",
    "    columns={'code':'product_code', 'brands':'brand'}\n",
    ")\n",
    "df_nutrients = df1[['code', 'energy-kcal_value','energy-kj_value','carbohydrates_value',\n",
    "                   'sugars_value', 'fat_value', 'saturated-fat_value', 'proteins_value', 'fiber_value',\n",
    "                   'salt_value', 'sodium_value', 'fruits-vegetables-nuts-estimate-from-ingredients_100g',\n",
    "                   'nutrition-score-fr', 'nova-group'\n",
    "                  ]].rename(columns={\n",
    "                      'code':'product_code', 'saturated-fat_value':'saturated_fat_value',\n",
    "                      'nutrition-score-fr':'nutrition_score_fr', 'nova-group':'nova_group'\n",
    "                  })\n",
    "df_derived = df1[['code', 'sugar_to_carb_ratio', 'calorie_category', 'sugar_category', 'is_ultra_processed']].rename(\n",
    "    columns={'code':'product_code'}\n",
    ")\n",
    "\n",
    "df_product = clean_nan(df_product)\n",
    "df_nutrients = clean_nan(df_nutrients)\n",
    "df_derived = clean_nan(df_derived)\n",
    "\n",
    "conn = get_connection()\n",
    "create_database(conn, \"choco_crunch\")\n",
    "create_tables(conn)\n",
    "insert_data(conn, df_product, df_nutrients, df_derived)\n",
    "conn.close()\n"
   ]
  },
  {
   "cell_type": "code",
   "execution_count": null,
   "id": "360623e5",
   "metadata": {},
   "outputs": [],
   "source": [
    "def run_query(conn, query, desc=\"\"):\n",
    "    cursor = conn.cursor()\n",
    "    cursor.execute(query)\n",
    "    results = cursor.fetchall()\n",
    "    columns = cursor.column_names\n",
    "    print(f\"\\n----- {desc} -----\")\n",
    "    print(columns)\n",
    "    for row in results:\n",
    "        print(row)\n",
    "    cursor.close()\n",
    "\n",
    "conn = get_connection()\n",
    "conn.database = \"choco_crunch\"\n",
    "\n",
    "# --- product_info queries ---\n",
    "run_query(conn, \"SELECT brand, COUNT(*) FROM product_info GROUP BY brand;\", \"Count products per brand\")\n",
    "run_query(conn, \"SELECT brand, COUNT(DISTINCT product_code) FROM product_info GROUP BY brand;\", \"Unique products per brand\")\n",
    "run_query(conn, \"SELECT brand, COUNT(*) AS cnt FROM product_info GROUP BY brand ORDER BY cnt DESC LIMIT 5;\", \"Top 5 brands by product count\")\n",
    "run_query(conn, \"SELECT * FROM product_info WHERE product_name IS NULL OR product_name = '';\", \"Products with missing product name\")\n",
    "run_query(conn, \"SELECT COUNT(DISTINCT brand) FROM product_info;\", \"Unique brands\")\n",
    "run_query(conn, \"SELECT * FROM product_info WHERE product_code LIKE '3%';\", \"Products with code starting with '3'\")\n",
    "\n",
    "# --- nutrient_info queries ---\n",
    "run_query(conn, \"SELECT product_code, energy_kcal_value FROM nutrient_info ORDER BY energy_kcal_value DESC LIMIT 10;\", \"Top 10 highest calorie products\")\n",
    "run_query(conn, \"SELECT nova_group, AVG(sugars_value) FROM nutrient_info GROUP BY nova_group;\", \"Average sugars per nova-group\")\n",
    "run_query(conn, \"SELECT COUNT(*) FROM nutrient_info WHERE fat_value > 20;\", \"Count with fat_value > 20g\")\n",
    "run_query(conn, \"SELECT AVG(carbohydrates_value) FROM nutrient_info;\", \"Average carbohydrates_value\")\n",
    "run_query(conn, \"SELECT product_code FROM nutrient_info WHERE sodium_value > 1;\", \"Products with sodium_value > 1g\")\n",
    "run_query(conn, \"SELECT COUNT(*) FROM nutrient_info WHERE fruits_vegetables_nuts_estimate_from_ingredients_100g > 0;\", \"Count products with fruits/vegetables/nuts\")\n",
    "run_query(conn, \"SELECT product_code FROM nutrient_info WHERE energy_kcal_value > 500;\", \"Products with energy-kcal_value > 500\")\n",
    "\n",
    "# --- derived_metrics queries ---\n",
    "run_query(conn, \"SELECT calorie_category, COUNT(*) FROM derived_metrics GROUP BY calorie_category;\", \"Count per calorie_category\")\n",
    "run_query(conn, \"SELECT COUNT(*) FROM derived_metrics WHERE sugar_category = 'High Sugar';\", \"Count of High Sugar products\")\n",
    "run_query(conn, \"SELECT AVG(sugar_to_carb_ratio) FROM derived_metrics WHERE calorie_category = 'High';\", \"Average sugar_to_carb_ratio for High Calorie\")\n",
    "run_query(conn, \"SELECT * FROM derived_metrics WHERE calorie_category = 'High' AND sugar_category = 'High Sugar';\", \"Products that are both High Calorie and High Sugar\")\n",
    "run_query(conn, \"SELECT COUNT(*) FROM derived_metrics WHERE is_ultra_processed = 'Yes';\", \"Count of ultra-processed products\")\n",
    "\n",
    "# --- Join queries ---\n",
    "run_query(conn, \"\"\"\n",
    "SELECT p.brand, COUNT(*) FROM product_info p\n",
    "JOIN derived_metrics d ON p.product_code = d.product_code\n",
    "WHERE d.calorie_category = 'High'\n",
    "GROUP BY p.brand ORDER BY COUNT(*) DESC LIMIT 5;\"\"\", \"Top 5 brands with most High Calorie products\")\n",
    "\n",
    "run_query(conn, \"\"\"\n",
    "SELECT d.calorie_category, AVG(n.energy_kcal_value)\n",
    "FROM derived_metrics d\n",
    "JOIN nutrient_info n ON d.product_code = n.product_code\n",
    "GROUP BY d.calorie_category;\"\"\", \"Average energy_kcal_value per calorie_category\")\n",
    "\n",
    "run_query(conn, \"\"\"\n",
    "SELECT p.brand, COUNT(*)\n",
    "FROM product_info p\n",
    "JOIN derived_metrics d ON p.product_code = d.product_code\n",
    "WHERE d.is_ultra_processed = 'Yes'\n",
    "GROUP BY p.brand;\"\"\", \"Count ultra-processed per brand\")\n",
    "\n",
    "run_query(conn, \"\"\"\n",
    "SELECT p.brand, p.product_code\n",
    "FROM product_info p\n",
    "JOIN derived_metrics d ON p.product_code = d.product_code\n",
    "WHERE d.calorie_category = 'High' AND d.sugar_category = 'High Sugar';\"\"\", \"Products with High Sugar and High Calorie\")\n",
    "\n",
    "run_query(conn, \"\"\"\n",
    "SELECT p.brand, AVG(n.sugars_value)\n",
    "FROM product_info p\n",
    "JOIN derived_metrics d ON p.product_code = d.product_code\n",
    "JOIN nutrient_info n ON p.product_code = n.product_code\n",
    "WHERE d.is_ultra_processed = 'Yes'\n",
    "GROUP BY p.brand;\"\"\", \"Average sugars per brand for ultra-processed\")\n",
    "\n",
    "run_query(conn, \"\"\"\n",
    "SELECT d.calorie_category, COUNT(*)\n",
    "FROM derived_metrics d\n",
    "JOIN nutrient_info n ON d.product_code = n.product_code\n",
    "WHERE n.fruits_vegetables_nuts_estimate_from_ingredients_100g > 0\n",
    "GROUP BY d.calorie_category;\"\"\", \"Number with fruits/veggies/nuts per calorie_category\")\n",
    "\n",
    "run_query(conn, \"\"\"\n",
    "SELECT p.product_code, d.sugar_to_carb_ratio, d.calorie_category, d.sugar_category\n",
    "FROM product_info p\n",
    "JOIN derived_metrics d ON p.product_code = d.product_code\n",
    "ORDER BY d.sugar_to_carb_ratio DESC LIMIT 5;\"\"\", \"Top 5 products by sugar_to_carb_ratio\")\n",
    "\n",
    "conn.close()\n"
   ]
  },
  {
   "cell_type": "code",
   "execution_count": null,
   "id": "7f4059ad",
   "metadata": {},
   "outputs": [],
   "source": []
  }
 ],
 "metadata": {
  "kernelspec": {
   "display_name": "Python 3",
   "language": "python",
   "name": "python3"
  },
  "language_info": {
   "codemirror_mode": {
    "name": "ipython",
    "version": 3
   },
   "file_extension": ".py",
   "mimetype": "text/x-python",
   "name": "python",
   "nbconvert_exporter": "python",
   "pygments_lexer": "ipython3",
   "version": "3.10.11"
  }
 },
 "nbformat": 4,
 "nbformat_minor": 5
}
